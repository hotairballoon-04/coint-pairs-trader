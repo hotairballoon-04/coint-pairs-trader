{
 "cells": [
  {
   "cell_type": "code",
   "outputs": [
    {
     "name": "stderr",
     "output_type": "stream",
     "text": [
      "/Users/lukasschaller/Documents/Programmieren/2025/coint-pairs-trader/.venv/lib/python3.9/site-packages/urllib3/__init__.py:35: NotOpenSSLWarning: urllib3 v2 only supports OpenSSL 1.1.1+, currently the 'ssl' module is compiled with 'LibreSSL 2.8.3'. See: https://github.com/urllib3/urllib3/issues/3020\n",
      "  warnings.warn(\n"
     ]
    }
   ],
   "source": [
    "import ccxt\n",
    "import pandas as pd\n",
    "\n",
    "def fetch_ohlcv(exchange_name: str,\n",
    "                symbol: str,\n",
    "                since: int = None,\n",
    "                limit: int = 1000) -> pd.DataFrame:\n",
    "    exchange = getattr(ccxt, exchange_name)()\n",
    "    ohlcv = exchange.fetch_ohlcv(symbol, timeframe='1d', since=since, limit=limit)\n",
    "    df = pd.DataFrame(ohlcv, columns=['timestamp','open','high','low','close','volume'])\n",
    "    df['datetime'] = pd.to_datetime(df['timestamp'], unit='ms')\n",
    "    df.set_index('datetime', inplace=True)\n",
    "    return df[['open','high','low','close','volume']]\n",
    "\n",
    "def get_pair_data(exchange_name: str,\n",
    "                  symbol_a: str,\n",
    "                  symbol_b: str,\n",
    "                  since: int = None,\n",
    "                  limit: int = 1000) -> pd.DataFrame:\n",
    "    df_a = fetch_ohlcv(exchange_name, symbol_a, since, limit)\n",
    "    df_b = fetch_ohlcv(exchange_name, symbol_b, since, limit)\n",
    "\n",
    "    # align on datetime and take only the closing prices\n",
    "    df = pd.concat([\n",
    "        df_a['close'].rename(symbol_a),\n",
    "        df_b['close'].rename(symbol_b)\n",
    "    ], axis=1).dropna()\n",
    "\n",
    "    return df"
   ],
   "metadata": {
    "collapsed": false,
    "ExecuteTime": {
     "end_time": "2025-07-28T15:16:12.476943Z",
     "start_time": "2025-07-28T15:16:11.977354Z"
    }
   },
   "id": "1515779e04afbca",
   "execution_count": 1
  },
  {
   "cell_type": "code",
   "execution_count": 2,
   "id": "initial_id",
   "metadata": {
    "collapsed": true,
    "ExecuteTime": {
     "end_time": "2025-07-28T15:16:12.480860Z",
     "start_time": "2025-07-28T15:16:12.478818Z"
    }
   },
   "outputs": [],
   "source": [
    "symbols = ['BTC/USDT', 'ETH/USDT', 'XRP/USDT', 'LTC/USDT', 'BCH/USDT', 'ADA/USDT', 'DOT/USDT', 'LINK/USDT', 'XLM/USDT', 'DOGE/USDT']\n",
    "\n",
    "min_r2 = 0.7\n",
    "adf_p_max = 0.05"
   ]
  },
  {
   "cell_type": "code",
   "outputs": [],
   "source": [
    "dfs = {}\n",
    "for symbol in symbols:\n",
    "    exchange_name = 'binance'\n",
    "    df = fetch_ohlcv(exchange_name, symbol, since=None, limit=1000)['close']\n",
    "    dfs[symbol] = df"
   ],
   "metadata": {
    "collapsed": false,
    "ExecuteTime": {
     "end_time": "2025-07-28T15:16:45.629439Z",
     "start_time": "2025-07-28T15:16:12.481659Z"
    }
   },
   "id": "3c26d0b1b084e119",
   "execution_count": 3
  },
  {
   "cell_type": "code",
   "outputs": [],
   "source": [
    "prices = pd.concat(dfs, axis=1).dropna()"
   ],
   "metadata": {
    "collapsed": false,
    "ExecuteTime": {
     "end_time": "2025-07-28T15:16:45.635578Z",
     "start_time": "2025-07-28T15:16:45.630652Z"
    }
   },
   "id": "79f1d5987f5a84b8",
   "execution_count": 4
  },
  {
   "cell_type": "code",
   "outputs": [],
   "source": [
    "import statsmodels.api as sm\n",
    "\n",
    "results = []\n",
    "for i in range(len(symbols)):\n",
    "    for j in range(i + 1, len(symbols)):\n",
    "        symbol_a = symbols[i]\n",
    "        symbol_b = symbols[j]\n",
    "        \n",
    "        y = prices[symbol_a]\n",
    "        X = sm.add_constant(prices[symbol_b])\n",
    "        model = sm.OLS(y, X).fit()\n",
    "        \n",
    "        # filter by R^2\n",
    "        if model.rsquared < min_r2:\n",
    "            continue\n",
    "        \n",
    "        # compute ADF test\n",
    "        residuals = model.resid\n",
    "        adf_statistic, p_value, *_, critical_values = sm.tsa.adfuller(residuals)\n",
    "        if p_value < adf_p_max:\n",
    "            results.append({\n",
    "                'pair': (symbol_a, symbol_b),\n",
    "                'r2': model.rsquared,\n",
    "                'adf_statistic': adf_statistic,\n",
    "                'adf_p_value': p_value,\n",
    "                'critical_values': critical_values\n",
    "            })\n",
    "        "
   ],
   "metadata": {
    "collapsed": false,
    "ExecuteTime": {
     "end_time": "2025-07-28T15:16:46.227010Z",
     "start_time": "2025-07-28T15:16:45.636830Z"
    }
   },
   "id": "16d8e5a10e0eed32",
   "execution_count": 5
  },
  {
   "cell_type": "code",
   "outputs": [],
   "source": [
    "results.sort(key=lambda x: x['adf_p_value'])"
   ],
   "metadata": {
    "collapsed": false,
    "ExecuteTime": {
     "end_time": "2025-07-28T15:16:46.229699Z",
     "start_time": "2025-07-28T15:16:46.227857Z"
    }
   },
   "id": "8c3daf7aaaa8a5b7",
   "execution_count": 6
  },
  {
   "cell_type": "code",
   "outputs": [
    {
     "data": {
      "text/plain": "[{'pair': ('ETH/USDT', 'BCH/USDT'),\n  'r2': np.float64(0.7326093359048288),\n  'adf_statistic': np.float64(-3.6033669331133926),\n  'adf_p_value': np.float64(0.005696984499991305),\n  'critical_values': np.float64(11119.340060667602)},\n {'pair': ('ADA/USDT', 'XLM/USDT'),\n  'r2': np.float64(0.7928502623327882),\n  'adf_statistic': np.float64(-3.2830405024648446),\n  'adf_p_value': np.float64(0.015653795231479146),\n  'critical_values': np.float64(-4469.682505416663)},\n {'pair': ('ADA/USDT', 'LINK/USDT'),\n  'r2': np.float64(0.7232024437229555),\n  'adf_statistic': np.float64(-3.0236361850627236),\n  'adf_p_value': np.float64(0.03274526302667385),\n  'critical_values': np.float64(-4603.367418068815)}]"
     },
     "execution_count": 7,
     "metadata": {},
     "output_type": "execute_result"
    }
   ],
   "source": [
    "results"
   ],
   "metadata": {
    "collapsed": false,
    "ExecuteTime": {
     "end_time": "2025-07-28T15:16:46.236913Z",
     "start_time": "2025-07-28T15:16:46.232468Z"
    }
   },
   "id": "9f4949fe4a64c285",
   "execution_count": 7
  },
  {
   "cell_type": "code",
   "outputs": [
    {
     "data": {
      "text/plain": "             BTC/USDT  ETH/USDT  XRP/USDT  LTC/USDT  BCH/USDT  ADA/USDT  \\\ndatetime                                                                  \n2022-11-02   20151.84   1518.34    0.4497     60.95     113.7    0.3856   \n2022-11-03   20207.82   1531.01    0.4548     61.84     115.6    0.3895   \n2022-11-04   21148.52   1644.78    0.5064     67.58     124.5    0.4216   \n2022-11-05   21299.37   1626.98    0.4930     69.23     123.7    0.4264   \n2022-11-06   20905.58   1568.29    0.4709     68.26     116.7    0.4021   \n...               ...       ...       ...       ...       ...       ...   \n2025-07-24  118340.99   3706.94    3.1453    112.26     513.0    0.8060   \n2025-07-25  117614.31   3724.96    3.1423    113.78     557.3    0.8158   \n2025-07-26  117919.99   3741.10    3.1662    113.91     559.1    0.8198   \n2025-07-27  119415.55   3872.10    3.2389    114.78     590.0    0.8320   \n2025-07-28  118224.78   3810.56    3.1700    110.71     583.7    0.8098   \n\n            DOT/USDT  LINK/USDT  XLM/USDT  DOGE/USDT  \ndatetime                                              \n2022-11-02     6.250      7.437    0.1075    0.12765  \n2022-11-03     6.410      7.720    0.1088    0.12262  \n2022-11-04     7.050      8.715    0.1156    0.12613  \n2022-11-05     7.030      8.663    0.1136    0.12445  \n2022-11-06     6.810      8.101    0.1090    0.11477  \n...              ...        ...       ...        ...  \n2025-07-24     4.000     17.910    0.4246    0.23218  \n2025-07-25     4.088     18.280    0.4313    0.23673  \n2025-07-26     4.124     18.410    0.4352    0.23543  \n2025-07-27     4.240     19.240    0.4442    0.24071  \n2025-07-28     4.107     18.540    0.4276    0.23407  \n\n[1000 rows x 10 columns]",
      "text/html": "<div>\n<style scoped>\n    .dataframe tbody tr th:only-of-type {\n        vertical-align: middle;\n    }\n\n    .dataframe tbody tr th {\n        vertical-align: top;\n    }\n\n    .dataframe thead th {\n        text-align: right;\n    }\n</style>\n<table border=\"1\" class=\"dataframe\">\n  <thead>\n    <tr style=\"text-align: right;\">\n      <th></th>\n      <th>BTC/USDT</th>\n      <th>ETH/USDT</th>\n      <th>XRP/USDT</th>\n      <th>LTC/USDT</th>\n      <th>BCH/USDT</th>\n      <th>ADA/USDT</th>\n      <th>DOT/USDT</th>\n      <th>LINK/USDT</th>\n      <th>XLM/USDT</th>\n      <th>DOGE/USDT</th>\n    </tr>\n    <tr>\n      <th>datetime</th>\n      <th></th>\n      <th></th>\n      <th></th>\n      <th></th>\n      <th></th>\n      <th></th>\n      <th></th>\n      <th></th>\n      <th></th>\n      <th></th>\n    </tr>\n  </thead>\n  <tbody>\n    <tr>\n      <th>2022-11-02</th>\n      <td>20151.84</td>\n      <td>1518.34</td>\n      <td>0.4497</td>\n      <td>60.95</td>\n      <td>113.7</td>\n      <td>0.3856</td>\n      <td>6.250</td>\n      <td>7.437</td>\n      <td>0.1075</td>\n      <td>0.12765</td>\n    </tr>\n    <tr>\n      <th>2022-11-03</th>\n      <td>20207.82</td>\n      <td>1531.01</td>\n      <td>0.4548</td>\n      <td>61.84</td>\n      <td>115.6</td>\n      <td>0.3895</td>\n      <td>6.410</td>\n      <td>7.720</td>\n      <td>0.1088</td>\n      <td>0.12262</td>\n    </tr>\n    <tr>\n      <th>2022-11-04</th>\n      <td>21148.52</td>\n      <td>1644.78</td>\n      <td>0.5064</td>\n      <td>67.58</td>\n      <td>124.5</td>\n      <td>0.4216</td>\n      <td>7.050</td>\n      <td>8.715</td>\n      <td>0.1156</td>\n      <td>0.12613</td>\n    </tr>\n    <tr>\n      <th>2022-11-05</th>\n      <td>21299.37</td>\n      <td>1626.98</td>\n      <td>0.4930</td>\n      <td>69.23</td>\n      <td>123.7</td>\n      <td>0.4264</td>\n      <td>7.030</td>\n      <td>8.663</td>\n      <td>0.1136</td>\n      <td>0.12445</td>\n    </tr>\n    <tr>\n      <th>2022-11-06</th>\n      <td>20905.58</td>\n      <td>1568.29</td>\n      <td>0.4709</td>\n      <td>68.26</td>\n      <td>116.7</td>\n      <td>0.4021</td>\n      <td>6.810</td>\n      <td>8.101</td>\n      <td>0.1090</td>\n      <td>0.11477</td>\n    </tr>\n    <tr>\n      <th>...</th>\n      <td>...</td>\n      <td>...</td>\n      <td>...</td>\n      <td>...</td>\n      <td>...</td>\n      <td>...</td>\n      <td>...</td>\n      <td>...</td>\n      <td>...</td>\n      <td>...</td>\n    </tr>\n    <tr>\n      <th>2025-07-24</th>\n      <td>118340.99</td>\n      <td>3706.94</td>\n      <td>3.1453</td>\n      <td>112.26</td>\n      <td>513.0</td>\n      <td>0.8060</td>\n      <td>4.000</td>\n      <td>17.910</td>\n      <td>0.4246</td>\n      <td>0.23218</td>\n    </tr>\n    <tr>\n      <th>2025-07-25</th>\n      <td>117614.31</td>\n      <td>3724.96</td>\n      <td>3.1423</td>\n      <td>113.78</td>\n      <td>557.3</td>\n      <td>0.8158</td>\n      <td>4.088</td>\n      <td>18.280</td>\n      <td>0.4313</td>\n      <td>0.23673</td>\n    </tr>\n    <tr>\n      <th>2025-07-26</th>\n      <td>117919.99</td>\n      <td>3741.10</td>\n      <td>3.1662</td>\n      <td>113.91</td>\n      <td>559.1</td>\n      <td>0.8198</td>\n      <td>4.124</td>\n      <td>18.410</td>\n      <td>0.4352</td>\n      <td>0.23543</td>\n    </tr>\n    <tr>\n      <th>2025-07-27</th>\n      <td>119415.55</td>\n      <td>3872.10</td>\n      <td>3.2389</td>\n      <td>114.78</td>\n      <td>590.0</td>\n      <td>0.8320</td>\n      <td>4.240</td>\n      <td>19.240</td>\n      <td>0.4442</td>\n      <td>0.24071</td>\n    </tr>\n    <tr>\n      <th>2025-07-28</th>\n      <td>118224.78</td>\n      <td>3810.56</td>\n      <td>3.1700</td>\n      <td>110.71</td>\n      <td>583.7</td>\n      <td>0.8098</td>\n      <td>4.107</td>\n      <td>18.540</td>\n      <td>0.4276</td>\n      <td>0.23407</td>\n    </tr>\n  </tbody>\n</table>\n<p>1000 rows × 10 columns</p>\n</div>"
     },
     "execution_count": 8,
     "metadata": {},
     "output_type": "execute_result"
    }
   ],
   "source": [
    "prices"
   ],
   "metadata": {
    "collapsed": false,
    "ExecuteTime": {
     "end_time": "2025-07-28T15:19:21.755304Z",
     "start_time": "2025-07-28T15:19:21.732019Z"
    }
   },
   "id": "5fdcba6251b97513",
   "execution_count": 8
  },
  {
   "cell_type": "markdown",
   "source": [
    "Hence we have found candidates to use for our strategy. For continuation see [03_cointegration.ipynb](03_cointegration.ipynb)."
   ],
   "metadata": {
    "collapsed": false
   },
   "id": "ab2139113a688dc"
  }
 ],
 "metadata": {
  "kernelspec": {
   "display_name": "Python 3",
   "language": "python",
   "name": "python3"
  },
  "language_info": {
   "codemirror_mode": {
    "name": "ipython",
    "version": 2
   },
   "file_extension": ".py",
   "mimetype": "text/x-python",
   "name": "python",
   "nbconvert_exporter": "python",
   "pygments_lexer": "ipython2",
   "version": "2.7.6"
  }
 },
 "nbformat": 4,
 "nbformat_minor": 5
}
