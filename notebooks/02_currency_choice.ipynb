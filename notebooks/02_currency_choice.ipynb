{
 "cells": [
  {
   "cell_type": "code",
   "outputs": [],
   "source": [
    "import ccxt\n",
    "import pandas as pd\n",
    "\n",
    "def fetch_ohlcv(exchange_name: str,\n",
    "                symbol: str,\n",
    "                since: int = None,\n",
    "                limit: int = 1000) -> pd.DataFrame:\n",
    "    exchange = getattr(ccxt, exchange_name)()\n",
    "    ohlcv = exchange.fetch_ohlcv(symbol, timeframe='1d', since=since, limit=limit)\n",
    "    df = pd.DataFrame(ohlcv, columns=['timestamp','open','high','low','close','volume'])\n",
    "    df['datetime'] = pd.to_datetime(df['timestamp'], unit='ms')\n",
    "    df.set_index('datetime', inplace=True)\n",
    "    return df[['open','high','low','close','volume']]\n",
    "\n",
    "def get_pair_data(exchange_name: str,\n",
    "                  symbol_a: str,\n",
    "                  symbol_b: str,\n",
    "                  since: int = None,\n",
    "                  limit: int = 1000) -> pd.DataFrame:\n",
    "    df_a = fetch_ohlcv(exchange_name, symbol_a, since, limit)\n",
    "    df_b = fetch_ohlcv(exchange_name, symbol_b, since, limit)\n",
    "\n",
    "    # align on datetime and take only the closing prices\n",
    "    df = pd.concat([\n",
    "        df_a['close'].rename(symbol_a),\n",
    "        df_b['close'].rename(symbol_b)\n",
    "    ], axis=1).dropna()\n",
    "\n",
    "    return df"
   ],
   "metadata": {
    "collapsed": false,
    "ExecuteTime": {
     "end_time": "2025-07-25T12:50:15.086522Z",
     "start_time": "2025-07-25T12:50:15.079597Z"
    }
   },
   "id": "1515779e04afbca",
   "execution_count": 3
  },
  {
   "cell_type": "code",
   "execution_count": 16,
   "id": "initial_id",
   "metadata": {
    "collapsed": true,
    "ExecuteTime": {
     "end_time": "2025-07-25T13:11:39.363756Z",
     "start_time": "2025-07-25T13:11:39.361522Z"
    }
   },
   "outputs": [],
   "source": [
    "symbols = ['BTC/USDT', 'ETH/USDT', 'XRP/USDT', 'LTC/USDT', 'BCH/USDT', 'ADA/USDT', 'DOT/USDT', 'LINK/USDT', 'XLM/USDT', 'DOGE/USDT']\n",
    "\n",
    "min_r2 = 0.7\n",
    "adf_p_max = 0.05"
   ]
  },
  {
   "cell_type": "code",
   "outputs": [],
   "source": [
    "dfs = {}\n",
    "for symbol in symbols:\n",
    "    exchange_name = 'binance'\n",
    "    df = fetch_ohlcv(exchange_name, symbol, since=None, limit=1000)['close']\n",
    "    dfs[symbol] = df"
   ],
   "metadata": {
    "collapsed": false,
    "ExecuteTime": {
     "end_time": "2025-07-25T13:12:09.800799Z",
     "start_time": "2025-07-25T13:11:40.149763Z"
    }
   },
   "id": "3c26d0b1b084e119",
   "execution_count": 17
  },
  {
   "cell_type": "code",
   "outputs": [],
   "source": [
    "prices = pd.concat(dfs, axis=1).dropna()"
   ],
   "metadata": {
    "collapsed": false,
    "ExecuteTime": {
     "end_time": "2025-07-25T13:12:09.805773Z",
     "start_time": "2025-07-25T13:12:09.801995Z"
    }
   },
   "id": "79f1d5987f5a84b8",
   "execution_count": 18
  },
  {
   "cell_type": "code",
   "outputs": [],
   "source": [
    "import statsmodels.api as sm\n",
    "\n",
    "results = []\n",
    "for i in range(len(symbols)):\n",
    "    for j in range(i + 1, len(symbols)):\n",
    "        symbol_a = symbols[i]\n",
    "        symbol_b = symbols[j]\n",
    "        \n",
    "        y = prices[symbol_a]\n",
    "        X = sm.add_constant(prices[symbol_b])\n",
    "        model = sm.OLS(y, X).fit()\n",
    "        \n",
    "        # filter by R^2\n",
    "        if model.rsquared < min_r2:\n",
    "            continue\n",
    "        \n",
    "        # compute ADF test\n",
    "        residuals = model.resid\n",
    "        adf_statistic, p_value, *_, critical_values = sm.tsa.adfuller(residuals)\n",
    "        if p_value < adf_p_max:\n",
    "            results.append({\n",
    "                'pair': (symbol_a, symbol_b),\n",
    "                'r2': model.rsquared,\n",
    "                'adf_statistic': adf_statistic,\n",
    "                'adf_p_value': p_value,\n",
    "                'critical_values': critical_values\n",
    "            })\n",
    "        "
   ],
   "metadata": {
    "collapsed": false,
    "ExecuteTime": {
     "end_time": "2025-07-25T13:19:30.892067Z",
     "start_time": "2025-07-25T13:19:30.750824Z"
    }
   },
   "id": "16d8e5a10e0eed32",
   "execution_count": 28
  },
  {
   "cell_type": "code",
   "outputs": [],
   "source": [
    "results.sort(key=lambda x: x['adf_p_value'])"
   ],
   "metadata": {
    "collapsed": false,
    "ExecuteTime": {
     "end_time": "2025-07-25T13:19:33.327730Z",
     "start_time": "2025-07-25T13:19:33.324971Z"
    }
   },
   "id": "8c3daf7aaaa8a5b7",
   "execution_count": 29
  },
  {
   "cell_type": "code",
   "outputs": [
    {
     "data": {
      "text/plain": "[{'pair': ('ETH/USDT', 'BCH/USDT'),\n  'r2': np.float64(0.7305843005582797),\n  'adf_statistic': np.float64(-3.5815212596540484),\n  'adf_p_value': np.float64(0.006124288715088263),\n  'critical_values': np.float64(11116.579630506896)},\n {'pair': ('ADA/USDT', 'XLM/USDT'),\n  'r2': np.float64(0.7931667049439108),\n  'adf_statistic': np.float64(-3.301408258119132),\n  'adf_p_value': np.float64(0.014815642550319166),\n  'critical_values': np.float64(-4468.022979612032)},\n {'pair': ('ADA/USDT', 'LINK/USDT'),\n  'r2': np.float64(0.7217974327352055),\n  'adf_statistic': np.float64(-3.02086896934438),\n  'adf_p_value': np.float64(0.032990929934041964),\n  'critical_values': np.float64(-4604.622409737383)},\n {'pair': ('XRP/USDT', 'XLM/USDT'),\n  'r2': np.float64(0.867640515053189),\n  'adf_statistic': np.float64(-2.9156730628788194),\n  'adf_p_value': np.float64(0.04355555452528412),\n  'critical_values': np.float64(-2603.483005676414)}]"
     },
     "execution_count": 30,
     "metadata": {},
     "output_type": "execute_result"
    }
   ],
   "source": [
    "results"
   ],
   "metadata": {
    "collapsed": false,
    "ExecuteTime": {
     "end_time": "2025-07-25T13:19:33.584732Z",
     "start_time": "2025-07-25T13:19:33.581785Z"
    }
   },
   "id": "9f4949fe4a64c285",
   "execution_count": 30
  },
  {
   "cell_type": "markdown",
   "source": [
    "Hence we have found candidates to use for our strategy. For continuation see [03_cointegration.ipynb](03_cointegration.ipynb)."
   ],
   "metadata": {
    "collapsed": false
   },
   "id": "ab2139113a688dc"
  },
  {
   "cell_type": "code",
   "outputs": [],
   "source": [],
   "metadata": {
    "collapsed": false
   },
   "id": "219b76d4435567c5"
  }
 ],
 "metadata": {
  "kernelspec": {
   "display_name": "Python 3",
   "language": "python",
   "name": "python3"
  },
  "language_info": {
   "codemirror_mode": {
    "name": "ipython",
    "version": 2
   },
   "file_extension": ".py",
   "mimetype": "text/x-python",
   "name": "python",
   "nbconvert_exporter": "python",
   "pygments_lexer": "ipython2",
   "version": "2.7.6"
  }
 },
 "nbformat": 4,
 "nbformat_minor": 5
}
