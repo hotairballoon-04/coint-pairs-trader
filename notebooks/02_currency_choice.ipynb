{
 "cells": [
  {
   "cell_type": "code",
   "outputs": [],
   "source": [
    "import ccxt\n",
    "import pandas as pd\n",
    "\n",
    "def fetch_ohlcv(exchange_name: str,\n",
    "                symbol: str,\n",
    "                since: int = None,\n",
    "                limit: int = 1000) -> pd.DataFrame:\n",
    "    exchange = getattr(ccxt, exchange_name)()\n",
    "    ohlcv = exchange.fetch_ohlcv(symbol, timeframe='1d', since=since, limit=limit)\n",
    "    df = pd.DataFrame(ohlcv, columns=['timestamp','open','high','low','close','volume'])\n",
    "    df['datetime'] = pd.to_datetime(df['timestamp'], unit='ms')\n",
    "    df.set_index('datetime', inplace=True)\n",
    "    return df[['open','high','low','close','volume']]\n",
    "\n",
    "def get_pair_data(exchange_name: str,\n",
    "                  symbol_a: str,\n",
    "                  symbol_b: str,\n",
    "                  since: int = None,\n",
    "                  limit: int = 1000) -> pd.DataFrame:\n",
    "    df_a = fetch_ohlcv(exchange_name, symbol_a, since, limit)\n",
    "    df_b = fetch_ohlcv(exchange_name, symbol_b, since, limit)\n",
    "\n",
    "    # align on datetime and take only the closing prices\n",
    "    df = pd.concat([\n",
    "        df_a['close'].rename(symbol_a),\n",
    "        df_b['close'].rename(symbol_b)\n",
    "    ], axis=1).dropna()\n",
    "\n",
    "    return df"
   ],
   "metadata": {
    "collapsed": false,
    "ExecuteTime": {
     "end_time": "2025-07-26T09:22:19.442805Z",
     "start_time": "2025-07-26T09:22:19.439041Z"
    }
   },
   "id": "1515779e04afbca",
   "execution_count": 15
  },
  {
   "cell_type": "code",
   "execution_count": 16,
   "id": "initial_id",
   "metadata": {
    "collapsed": true,
    "ExecuteTime": {
     "end_time": "2025-07-26T09:22:19.445481Z",
     "start_time": "2025-07-26T09:22:19.443726Z"
    }
   },
   "outputs": [],
   "source": [
    "symbols = ['BTC/USDT', 'ETH/USDT', 'XRP/USDT', 'LTC/USDT', 'BCH/USDT', 'ADA/USDT', 'DOT/USDT', 'LINK/USDT', 'XLM/USDT', 'DOGE/USDT']\n",
    "\n",
    "min_r2 = 0.7\n",
    "adf_p_max = 0.05"
   ]
  },
  {
   "cell_type": "code",
   "outputs": [],
   "source": [
    "dfs = {}\n",
    "for symbol in symbols:\n",
    "    exchange_name = 'binance'\n",
    "    df = fetch_ohlcv(exchange_name, symbol, since=None, limit=1000)['close']\n",
    "    dfs[symbol] = df"
   ],
   "metadata": {
    "collapsed": false,
    "ExecuteTime": {
     "end_time": "2025-07-26T09:22:50.582524Z",
     "start_time": "2025-07-26T09:22:19.446098Z"
    }
   },
   "id": "3c26d0b1b084e119",
   "execution_count": 17
  },
  {
   "cell_type": "code",
   "outputs": [],
   "source": [
    "prices = pd.concat(dfs, axis=1).dropna()"
   ],
   "metadata": {
    "collapsed": false,
    "ExecuteTime": {
     "end_time": "2025-07-26T09:22:50.587289Z",
     "start_time": "2025-07-26T09:22:50.583371Z"
    }
   },
   "id": "79f1d5987f5a84b8",
   "execution_count": 18
  },
  {
   "cell_type": "code",
   "outputs": [],
   "source": [
    "import statsmodels.api as sm\n",
    "\n",
    "results = []\n",
    "for i in range(len(symbols)):\n",
    "    for j in range(i + 1, len(symbols)):\n",
    "        symbol_a = symbols[i]\n",
    "        symbol_b = symbols[j]\n",
    "        \n",
    "        y = prices[symbol_a]\n",
    "        X = sm.add_constant(prices[symbol_b])\n",
    "        model = sm.OLS(y, X).fit()\n",
    "        \n",
    "        # filter by R^2\n",
    "        if model.rsquared < min_r2:\n",
    "            continue\n",
    "        \n",
    "        # compute ADF test\n",
    "        residuals = model.resid\n",
    "        adf_statistic, p_value, *_, critical_values = sm.tsa.adfuller(residuals)\n",
    "        if p_value < adf_p_max:\n",
    "            results.append({\n",
    "                'pair': (symbol_a, symbol_b),\n",
    "                'r2': model.rsquared,\n",
    "                'adf_statistic': adf_statistic,\n",
    "                'adf_p_value': p_value,\n",
    "                'critical_values': critical_values\n",
    "            })\n",
    "        "
   ],
   "metadata": {
    "collapsed": false,
    "ExecuteTime": {
     "end_time": "2025-07-26T09:22:50.717510Z",
     "start_time": "2025-07-26T09:22:50.590173Z"
    }
   },
   "id": "16d8e5a10e0eed32",
   "execution_count": 19
  },
  {
   "cell_type": "code",
   "outputs": [],
   "source": [
    "results.sort(key=lambda x: x['adf_p_value'])"
   ],
   "metadata": {
    "collapsed": false,
    "ExecuteTime": {
     "end_time": "2025-07-26T09:22:50.720528Z",
     "start_time": "2025-07-26T09:22:50.718260Z"
    }
   },
   "id": "8c3daf7aaaa8a5b7",
   "execution_count": 20
  },
  {
   "cell_type": "code",
   "outputs": [
    {
     "data": {
      "text/plain": "[{'pair': ('ETH/USDT', 'BCH/USDT'),\n  'r2': np.float64(0.7311927662784643),\n  'adf_statistic': np.float64(-3.5824772875489437),\n  'adf_p_value': np.float64(0.006104997323768894),\n  'critical_values': np.float64(11118.347680126808)},\n {'pair': ('ADA/USDT', 'XLM/USDT'),\n  'r2': np.float64(0.7930511541179559),\n  'adf_statistic': np.float64(-3.2793084251346274),\n  'adf_p_value': np.float64(0.01582910662262592),\n  'critical_values': np.float64(-4468.485817014119)},\n {'pair': ('ADA/USDT', 'LINK/USDT'),\n  'r2': np.float64(0.7222045010540256),\n  'adf_statistic': np.float64(-2.970532350163074),\n  'adf_p_value': np.float64(0.0377394566960802),\n  'critical_values': np.float64(-4604.26805722799)},\n {'pair': ('XRP/USDT', 'XLM/USDT'),\n  'r2': np.float64(0.8685120717063561),\n  'adf_statistic': np.float64(-2.8880195774806294),\n  'adf_p_value': np.float64(0.04675900007595937),\n  'critical_values': np.float64(-2601.224653810241)}]"
     },
     "execution_count": 21,
     "metadata": {},
     "output_type": "execute_result"
    }
   ],
   "source": [
    "results"
   ],
   "metadata": {
    "collapsed": false,
    "ExecuteTime": {
     "end_time": "2025-07-26T09:22:50.724373Z",
     "start_time": "2025-07-26T09:22:50.721485Z"
    }
   },
   "id": "9f4949fe4a64c285",
   "execution_count": 21
  },
  {
   "cell_type": "markdown",
   "source": [
    "Hence we have found candidates to use for our strategy. For continuation see [03_cointegration.ipynb](03_cointegration.ipynb)."
   ],
   "metadata": {
    "collapsed": false
   },
   "id": "ab2139113a688dc"
  }
 ],
 "metadata": {
  "kernelspec": {
   "display_name": "Python 3",
   "language": "python",
   "name": "python3"
  },
  "language_info": {
   "codemirror_mode": {
    "name": "ipython",
    "version": 2
   },
   "file_extension": ".py",
   "mimetype": "text/x-python",
   "name": "python",
   "nbconvert_exporter": "python",
   "pygments_lexer": "ipython2",
   "version": "2.7.6"
  }
 },
 "nbformat": 4,
 "nbformat_minor": 5
}
